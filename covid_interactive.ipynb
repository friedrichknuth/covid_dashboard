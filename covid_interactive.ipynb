{
 "cells": [
  {
   "cell_type": "markdown",
   "metadata": {},
   "source": [
    "# Interactive Plots of COVID-19 Data\n",
    "This is a notebook to interact with COVID-19 data using [Jupyter](https://jupyter.org/) and [Hvplot](https://hvplot.holoviz.org/). Currently we are focused on data from the US but may expand our analyses in the near future."
   ]
  },
  {
   "cell_type": "markdown",
   "metadata": {},
   "source": [
    "## Load Johns Hopkins COVID-19 Data\n",
    "Here we load the COVID-19 confirmed case data from the [The Center for Systems Science and Engineering (CSSE)](https://systems.jhu.edu) at Johns Hopkins University. The CCSE COVID-19 [GitHub Repo](https://github.com/CSSEGISandData/COVID-19) has more information about these data and their sources."
   ]
  },
  {
   "cell_type": "code",
   "execution_count": null,
   "metadata": {},
   "outputs": [],
   "source": [
    "import numpy as np\n",
    "import pandas as pd\n",
    "pd.set_option('display.max_rows', 1000)\n",
    "import hvplot.pandas"
   ]
  },
  {
   "cell_type": "code",
   "execution_count": null,
   "metadata": {},
   "outputs": [],
   "source": [
    "src = 'https://github.com/CSSEGISandData/COVID-19/raw/master/csse_covid_19_data/csse_covid_19_time_series/time_series_19-covid-Confirmed.csv'"
   ]
  },
  {
   "cell_type": "code",
   "execution_count": null,
   "metadata": {},
   "outputs": [],
   "source": [
    "df = pd.read_csv(src)\n",
    "df.rename(columns={'Country/Region': 'country', 'Province/State': 'state',\n",
    "                   'Lat': 'lat', 'Long': 'lon'}, inplace = True)\n",
    "df = df[(df.country=='US') & (df.state!='Diamond Princess') & \n",
    "        (df.state!='Grand Princess')].reset_index(drop=True)\n",
    "df.columns = df.columns[0:4].append(pd.to_datetime(df.columns[4:]))"
   ]
  },
  {
   "cell_type": "code",
   "execution_count": null,
   "metadata": {},
   "outputs": [],
   "source": [
    "state = df.state.str.split(',').apply(lambda x: x[-1].strip())\n",
    "county = df.state.str.split(',').apply(lambda x: x[0].strip())\n",
    "county[~df.state.str.contains(',')] = None"
   ]
  },
  {
   "cell_type": "code",
   "execution_count": null,
   "metadata": {},
   "outputs": [],
   "source": [
    "df.state = state\n",
    "df.insert(0, 'county', county)\n",
    "df.head()"
   ]
  },
  {
   "cell_type": "markdown",
   "metadata": {},
   "source": [
    "## Plot All US Cases on Log Scale\n",
    "Below is a quick plot of all confirmed cases in the US on a logarithmic scale. \n",
    "\n",
    "Hvplot creates holoviews objects, and the `*` symbol means [overlay](http://holoviews.org/reference/containers/bokeh/Overlay.html).  See [holoviz plot customization](http://holoviews.org/user_guide/Customizing_Plots.html) for available options.  "
   ]
  },
  {
   "cell_type": "code",
   "execution_count": null,
   "metadata": {},
   "outputs": [],
   "source": [
    "opts = {'legend': False, 'logy': True, 'grid': True, 'width': 700, 'height': 400,\n",
    "        'title': 'Confirmed cases of COVID-19 in the US', 'padding':0.1 }\n",
    "lines = df.select_dtypes(np.int).sum().hvplot(**opts) \n",
    "dots  = df.select_dtypes(np.int).sum().hvplot.scatter(**opts)\n",
    "usa = lines * dots\n",
    "usa"
   ]
  },
  {
   "cell_type": "markdown",
   "metadata": {},
   "source": [
    "## Single State Example\n",
    "Here is an example of plotting data from a single US state."
   ]
  },
  {
   "cell_type": "code",
   "execution_count": null,
   "metadata": {},
   "outputs": [],
   "source": [
    "MA = df[(df.state=='MA') | (df.state=='Massachusetts')]\n",
    "opts = {'legend': False, 'logy': True, 'grid': True, 'width': 700, 'height': 400,\n",
    "        'title': 'Confirmed cases of COVID-19 in Massachusetts', 'padding':0.1,\n",
    "        'ylim':(1.0,1.0e3) }\n",
    "lines = MA.select_dtypes(np.int).sum().hvplot(**opts)\n",
    "dots = MA.select_dtypes(np.int).sum().hvplot.scatter(**opts)\n",
    "lines * dots"
   ]
  },
  {
   "cell_type": "markdown",
   "metadata": {},
   "source": [
    "## Multiple Region Example"
   ]
  },
  {
   "cell_type": "markdown",
   "metadata": {},
   "source": [
    "Turn the above code for a single state into a function so it's easier to explore several states"
   ]
  },
  {
   "cell_type": "code",
   "execution_count": null,
   "metadata": {},
   "outputs": [],
   "source": [
    "def state(name='Massachusetts', code='MA'):\n",
    "    state = df[(df.state==name) | (df.state==code)]\n",
    "    opts = {'legend': False, 'logy': True, 'grid': True, 'width': 700, 'height': 400,\n",
    "        'title': f'Confirmed cases of COVID-19 in {code}', 'padding':0.1,\n",
    "        'ylim':(1.0,1.0e3) }\n",
    "    lines = state.select_dtypes(np.int).sum().hvplot(**opts)\n",
    "    dots = state.select_dtypes(np.int).sum().hvplot.scatter(**opts)\n",
    "    hstate = lines * dots\n",
    "    return hstate"
   ]
  },
  {
   "cell_type": "code",
   "execution_count": null,
   "metadata": {},
   "outputs": [],
   "source": [
    "ma = state(name='Massachusetts', code='MA')"
   ]
  },
  {
   "cell_type": "code",
   "execution_count": null,
   "metadata": {},
   "outputs": [],
   "source": [
    "mi = state(name='Michigan', code='MI')"
   ]
  },
  {
   "cell_type": "code",
   "execution_count": null,
   "metadata": {},
   "outputs": [],
   "source": [
    "pa = state(name='Pennsylvania', code='PA')"
   ]
  },
  {
   "cell_type": "code",
   "execution_count": null,
   "metadata": {},
   "outputs": [],
   "source": [
    "(ma * mi * pa * usa).opts(title_format='Confirmed cases of COVID-19', ylim=(1.0,1.0e4))"
   ]
  }
 ],
 "metadata": {
  "kernelspec": {
   "display_name": "Python 3",
   "language": "python",
   "name": "python3"
  },
  "language_info": {
   "codemirror_mode": {
    "name": "ipython",
    "version": 3
   },
   "file_extension": ".py",
   "mimetype": "text/x-python",
   "name": "python",
   "nbconvert_exporter": "python",
   "pygments_lexer": "ipython3",
   "version": "3.7.6"
  }
 },
 "nbformat": 4,
 "nbformat_minor": 4
}
