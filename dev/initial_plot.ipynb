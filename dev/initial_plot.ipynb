{
 "cells": [
  {
   "cell_type": "code",
   "execution_count": 1,
   "metadata": {},
   "outputs": [],
   "source": [
    "import pandas as pd"
   ]
  },
  {
   "cell_type": "code",
   "execution_count": 2,
   "metadata": {},
   "outputs": [],
   "source": [
    "src = 'https://github.com/CSSEGISandData/COVID-19/raw/master/csse_covid_19_data/csse_covid_19_time_series/time_series_19-covid-Confirmed.csv'"
   ]
  },
  {
   "cell_type": "code",
   "execution_count": 3,
   "metadata": {},
   "outputs": [],
   "source": [
    "# by state\n",
    "df = pd.read_csv(src)\n",
    "df = df[df['Country/Region'] == 'US']\n",
    "\n",
    "df_counties = df[df['Province/State'].str.contains(',')]\n",
    "df_counties = df_counties.groupby(['Country/Region'], as_index=False).sum()\n",
    "df_counties = df_counties.drop(['Lat', 'Long'], axis=1)\n",
    "df_counties = df_counties.T\n",
    "df_counties = df_counties.drop(['Country/Region'])\n",
    "df_counties = df_counties.reset_index()\n",
    "df_counties = df_counties.truncate(after=47)\n",
    "\n",
    "df = df[~df['Province/State'].str.contains(',')]\n",
    "df = df[~df['Province/State'].str.contains('Princess')]\n",
    "df = df.groupby(['Country/Region'], as_index=False).sum()\n",
    "df = df.drop(['Lat', 'Long'], axis=1)\n",
    "df = df.T\n",
    "df = df.drop(['Country/Region'])\n",
    "\n",
    "df = df.reset_index()\n",
    "df = df.truncate(before=48)\n",
    "\n",
    "df = df_counties.append(df)\n",
    "\n",
    "df = df.set_index(['index'])\n",
    "df.columns = ['US']"
   ]
  },
  {
   "cell_type": "code",
   "execution_count": 4,
   "metadata": {},
   "outputs": [
    {
     "data": {
      "text/plain": [
       "<matplotlib.axes._subplots.AxesSubplot at 0x11e057e80>"
      ]
     },
     "execution_count": 4,
     "metadata": {},
     "output_type": "execute_result"
    },
    {
     "data": {
      "image/png": "[encoded data removed]",
      "text/plain": [
       "<Figure size 432x288 with 1 Axes>"
      ]
     },
     "metadata": {
      "needs_background": "light"
     },
     "output_type": "display_data"
    }
   ],
   "source": [
    "df.plot()"
   ]
  },
  {
   "cell_type": "code",
   "execution_count": null,
   "metadata": {},
   "outputs": [],
   "source": []
  }
 ],
 "metadata": {
  "kernelspec": {
   "display_name": "Python 3",
   "language": "python",
   "name": "python3"
  },
  "language_info": {
   "codemirror_mode": {
    "name": "ipython",
    "version": 3
   },
   "file_extension": ".py",
   "mimetype": "text/x-python",
   "name": "python",
   "nbconvert_exporter": "python",
   "pygments_lexer": "ipython3",
   "version": "3.8.2"
  }
 },
 "nbformat": 4,
 "nbformat_minor": 4
}
